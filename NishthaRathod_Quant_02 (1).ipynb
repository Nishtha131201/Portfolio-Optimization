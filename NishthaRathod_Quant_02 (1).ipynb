{
  "nbformat": 4,
  "nbformat_minor": 0,
  "metadata": {
    "colab": {
      "name": "NishthaRathod_Quant_02.ipynb",
      "provenance": []
    },
    "kernelspec": {
      "name": "python3",
      "display_name": "Python 3"
    }
  },
  "cells": [
    {
      "cell_type": "markdown",
      "metadata": {
        "id": "kehsnAm4w39d"
      },
      "source": [
        "# **PORTFOLIO OPTIMIZATION**"
      ]
    },
    {
      "cell_type": "code",
      "metadata": {
        "id": "v_EhlxyjYTOP"
      },
      "source": [
        "import numpy as np\n",
        "import pandas as pd\n",
        "import pandas_datareader.data as web\n",
        "import matplotlib.pyplot as plt"
      ],
      "execution_count": null,
      "outputs": []
    },
    {
      "cell_type": "markdown",
      "metadata": {
        "id": "3_mX-QySxL_t"
      },
      "source": [
        "**I have assumed 5 stocks here for my portfolio**\n",
        "\n",
        "**For calculating the optimized weights, we have taken a training period from 1st April 2015 to 31st March 2017**"
      ]
    },
    {
      "cell_type": "code",
      "metadata": {
        "id": "R5X8PQ91Y5dl"
      },
      "source": [
        "assets = ['HCLTECH.NS','WIPRO.NS','INFY.NS','TCS.NS','MPHASIS.NS']\n",
        "\n",
        "stockStartDate='2015-04-01'\n",
        "\n",
        "stockEndDate='2017-03-31'\n"
      ],
      "execution_count": null,
      "outputs": []
    },
    {
      "cell_type": "code",
      "metadata": {
        "id": "p8sEsSnWio_X"
      },
      "source": [
        "#Assign weights to stocks.\n",
        "weights = np.array([0.2,0.2,0.2,0.2,0.2])\n"
      ],
      "execution_count": null,
      "outputs": []
    },
    {
      "cell_type": "code",
      "metadata": {
        "id": "w0_jHFtbZ-Nt"
      },
      "source": [
        "df = pd.DataFrame()\n",
        "\n",
        "for stock in assets:\n",
        "  df[stock] = web.DataReader(stock,data_source='yahoo',start=stockStartDate,end = stockEndDate)['Adj Close']"
      ],
      "execution_count": null,
      "outputs": []
    },
    {
      "cell_type": "code",
      "metadata": {
        "id": "sMyR0gXLf-Gp"
      },
      "source": [
        "df.sort_index(inplace=True)"
      ],
      "execution_count": null,
      "outputs": []
    },
    {
      "cell_type": "code",
      "metadata": {
        "id": "h_CLq3S4gCZh",
        "colab": {
          "base_uri": "https://localhost:8080/",
          "height": 431
        },
        "outputId": "8ce73dcc-cc2a-4882-dce3-1b463243646a"
      },
      "source": [
        "df"
      ],
      "execution_count": null,
      "outputs": [
        {
          "output_type": "execute_result",
          "data": {
            "text/html": [
              "<div>\n",
              "<style scoped>\n",
              "    .dataframe tbody tr th:only-of-type {\n",
              "        vertical-align: middle;\n",
              "    }\n",
              "\n",
              "    .dataframe tbody tr th {\n",
              "        vertical-align: top;\n",
              "    }\n",
              "\n",
              "    .dataframe thead th {\n",
              "        text-align: right;\n",
              "    }\n",
              "</style>\n",
              "<table border=\"1\" class=\"dataframe\">\n",
              "  <thead>\n",
              "    <tr style=\"text-align: right;\">\n",
              "      <th></th>\n",
              "      <th>HCLTECH.NS</th>\n",
              "      <th>WIPRO.NS</th>\n",
              "      <th>INFY.NS</th>\n",
              "      <th>TCS.NS</th>\n",
              "      <th>MPHASIS.NS</th>\n",
              "    </tr>\n",
              "    <tr>\n",
              "      <th>Date</th>\n",
              "      <th></th>\n",
              "      <th></th>\n",
              "      <th></th>\n",
              "      <th></th>\n",
              "      <th></th>\n",
              "    </tr>\n",
              "  </thead>\n",
              "  <tbody>\n",
              "    <tr>\n",
              "      <th>2015-04-01</th>\n",
              "      <td>401.125000</td>\n",
              "      <td>218.195862</td>\n",
              "      <td>413.400604</td>\n",
              "      <td>1092.188232</td>\n",
              "      <td>322.927979</td>\n",
              "    </tr>\n",
              "    <tr>\n",
              "      <th>2015-04-06</th>\n",
              "      <td>397.373199</td>\n",
              "      <td>214.043320</td>\n",
              "      <td>414.209229</td>\n",
              "      <td>1094.190063</td>\n",
              "      <td>321.979156</td>\n",
              "    </tr>\n",
              "    <tr>\n",
              "      <th>2015-04-07</th>\n",
              "      <td>398.439117</td>\n",
              "      <td>211.941757</td>\n",
              "      <td>410.653229</td>\n",
              "      <td>1110.384155</td>\n",
              "      <td>323.794312</td>\n",
              "    </tr>\n",
              "    <tr>\n",
              "      <th>2015-04-08</th>\n",
              "      <td>408.799194</td>\n",
              "      <td>212.372726</td>\n",
              "      <td>418.459686</td>\n",
              "      <td>1134.610352</td>\n",
              "      <td>321.731659</td>\n",
              "    </tr>\n",
              "    <tr>\n",
              "      <th>2015-04-09</th>\n",
              "      <td>411.058868</td>\n",
              "      <td>212.664932</td>\n",
              "      <td>421.207123</td>\n",
              "      <td>1144.558716</td>\n",
              "      <td>319.462769</td>\n",
              "    </tr>\n",
              "    <tr>\n",
              "      <th>...</th>\n",
              "      <td>...</td>\n",
              "      <td>...</td>\n",
              "      <td>...</td>\n",
              "      <td>...</td>\n",
              "      <td>...</td>\n",
              "    </tr>\n",
              "    <tr>\n",
              "      <th>2017-03-27</th>\n",
              "      <td>409.103699</td>\n",
              "      <td>187.099182</td>\n",
              "      <td>456.600006</td>\n",
              "      <td>1115.065918</td>\n",
              "      <td>534.632629</td>\n",
              "    </tr>\n",
              "    <tr>\n",
              "      <th>2017-03-28</th>\n",
              "      <td>412.824402</td>\n",
              "      <td>188.416779</td>\n",
              "      <td>459.395905</td>\n",
              "      <td>1123.331299</td>\n",
              "      <td>533.830505</td>\n",
              "    </tr>\n",
              "    <tr>\n",
              "      <th>2017-03-29</th>\n",
              "      <td>421.321838</td>\n",
              "      <td>190.162048</td>\n",
              "      <td>457.931366</td>\n",
              "      <td>1130.108521</td>\n",
              "      <td>531.335388</td>\n",
              "    </tr>\n",
              "    <tr>\n",
              "      <th>2017-03-30</th>\n",
              "      <td>420.481720</td>\n",
              "      <td>191.535110</td>\n",
              "      <td>455.113251</td>\n",
              "      <td>1128.444214</td>\n",
              "      <td>516.899170</td>\n",
              "    </tr>\n",
              "    <tr>\n",
              "      <th>2017-03-31</th>\n",
              "      <td>419.953644</td>\n",
              "      <td>191.443039</td>\n",
              "      <td>453.670929</td>\n",
              "      <td>1124.191406</td>\n",
              "      <td>516.765503</td>\n",
              "    </tr>\n",
              "  </tbody>\n",
              "</table>\n",
              "<p>493 rows × 5 columns</p>\n",
              "</div>"
            ],
            "text/plain": [
              "            HCLTECH.NS    WIPRO.NS     INFY.NS       TCS.NS  MPHASIS.NS\n",
              "Date                                                                   \n",
              "2015-04-01  401.125000  218.195862  413.400604  1092.188232  322.927979\n",
              "2015-04-06  397.373199  214.043320  414.209229  1094.190063  321.979156\n",
              "2015-04-07  398.439117  211.941757  410.653229  1110.384155  323.794312\n",
              "2015-04-08  408.799194  212.372726  418.459686  1134.610352  321.731659\n",
              "2015-04-09  411.058868  212.664932  421.207123  1144.558716  319.462769\n",
              "...                ...         ...         ...          ...         ...\n",
              "2017-03-27  409.103699  187.099182  456.600006  1115.065918  534.632629\n",
              "2017-03-28  412.824402  188.416779  459.395905  1123.331299  533.830505\n",
              "2017-03-29  421.321838  190.162048  457.931366  1130.108521  531.335388\n",
              "2017-03-30  420.481720  191.535110  455.113251  1128.444214  516.899170\n",
              "2017-03-31  419.953644  191.443039  453.670929  1124.191406  516.765503\n",
              "\n",
              "[493 rows x 5 columns]"
            ]
          },
          "metadata": {
            "tags": []
          },
          "execution_count": 115
        }
      ]
    },
    {
      "cell_type": "code",
      "metadata": {
        "id": "NIMu8PSKhvO6",
        "colab": {
          "base_uri": "https://localhost:8080/",
          "height": 647
        },
        "outputId": "56ac10b9-0972-4b51-9042-c5d70b3d2866"
      },
      "source": [
        "# Visually show the stock/portfolio\n",
        "title='Portfolio Adj. Close price history'\n",
        "\n",
        " #get stocks\n",
        "my_stocks=df\n",
        "\n",
        " #create and plot the graph\n",
        "\n",
        "\n",
        "plt.figure(figsize=(15,10))\n",
        "plt.title(title)\n",
        "plt.xlabel('Date', fontsize=18)\n",
        "plt.ylabel('Adj. Price ', fontsize=18)\n",
        "\n",
        "for c in my_stocks.columns.values:\n",
        "  plt.plot(my_stocks[c], label=c)\n",
        "\n",
        "plt.legend(my_stocks.columns.values, loc ='upper left')\n"
      ],
      "execution_count": null,
      "outputs": [
        {
          "output_type": "execute_result",
          "data": {
            "text/plain": [
              "<matplotlib.legend.Legend at 0x7f18e081f668>"
            ]
          },
          "metadata": {
            "tags": []
          },
          "execution_count": 116
        },
        {
          "output_type": "display_data",
          "data": {
            "image/png": "[encoded data removed]",
            "text/plain": [
              "<Figure size 1080x720 with 1 Axes>"
            ]
          },
          "metadata": {
            "tags": [],
            "needs_background": "light"
          }
        }
      ]
    },
    {
      "cell_type": "markdown",
      "metadata": {
        "id": "tklegfihxzl3"
      },
      "source": [
        "**Returns for the portfolio**"
      ]
    },
    {
      "cell_type": "code",
      "metadata": {
        "id": "y9dSYr_jifOA",
        "colab": {
          "base_uri": "https://localhost:8080/",
          "height": 431
        },
        "outputId": "ec7a8abc-7301-4a41-fc03-1822f0d3ee7c"
      },
      "source": [
        "#show the daily simple return\n",
        "returns = df.pct_change()\n",
        "returns\n"
      ],
      "execution_count": null,
      "outputs": [
        {
          "output_type": "execute_result",
          "data": {
            "text/html": [
              "<div>\n",
              "<style scoped>\n",
              "    .dataframe tbody tr th:only-of-type {\n",
              "        vertical-align: middle;\n",
              "    }\n",
              "\n",
              "    .dataframe tbody tr th {\n",
              "        vertical-align: top;\n",
              "    }\n",
              "\n",
              "    .dataframe thead th {\n",
              "        text-align: right;\n",
              "    }\n",
              "</style>\n",
              "<table border=\"1\" class=\"dataframe\">\n",
              "  <thead>\n",
              "    <tr style=\"text-align: right;\">\n",
              "      <th></th>\n",
              "      <th>HCLTECH.NS</th>\n",
              "      <th>WIPRO.NS</th>\n",
              "      <th>INFY.NS</th>\n",
              "      <th>TCS.NS</th>\n",
              "      <th>MPHASIS.NS</th>\n",
              "    </tr>\n",
              "    <tr>\n",
              "      <th>Date</th>\n",
              "      <th></th>\n",
              "      <th></th>\n",
              "      <th></th>\n",
              "      <th></th>\n",
              "      <th></th>\n",
              "    </tr>\n",
              "  </thead>\n",
              "  <tbody>\n",
              "    <tr>\n",
              "      <th>2015-04-01</th>\n",
              "      <td>NaN</td>\n",
              "      <td>NaN</td>\n",
              "      <td>NaN</td>\n",
              "      <td>NaN</td>\n",
              "      <td>NaN</td>\n",
              "    </tr>\n",
              "    <tr>\n",
              "      <th>2015-04-06</th>\n",
              "      <td>-0.009353</td>\n",
              "      <td>-0.019031</td>\n",
              "      <td>0.001956</td>\n",
              "      <td>0.001833</td>\n",
              "      <td>-0.002938</td>\n",
              "    </tr>\n",
              "    <tr>\n",
              "      <th>2015-04-07</th>\n",
              "      <td>0.002682</td>\n",
              "      <td>-0.009818</td>\n",
              "      <td>-0.008585</td>\n",
              "      <td>0.014800</td>\n",
              "      <td>0.005637</td>\n",
              "    </tr>\n",
              "    <tr>\n",
              "      <th>2015-04-08</th>\n",
              "      <td>0.026002</td>\n",
              "      <td>0.002033</td>\n",
              "      <td>0.019010</td>\n",
              "      <td>0.021818</td>\n",
              "      <td>-0.006370</td>\n",
              "    </tr>\n",
              "    <tr>\n",
              "      <th>2015-04-09</th>\n",
              "      <td>0.005528</td>\n",
              "      <td>0.001376</td>\n",
              "      <td>0.006566</td>\n",
              "      <td>0.008768</td>\n",
              "      <td>-0.007052</td>\n",
              "    </tr>\n",
              "    <tr>\n",
              "      <th>...</th>\n",
              "      <td>...</td>\n",
              "      <td>...</td>\n",
              "      <td>...</td>\n",
              "      <td>...</td>\n",
              "      <td>...</td>\n",
              "    </tr>\n",
              "    <tr>\n",
              "      <th>2017-03-27</th>\n",
              "      <td>-0.023939</td>\n",
              "      <td>-0.018024</td>\n",
              "      <td>-0.002472</td>\n",
              "      <td>-0.006238</td>\n",
              "      <td>-0.005058</td>\n",
              "    </tr>\n",
              "    <tr>\n",
              "      <th>2017-03-28</th>\n",
              "      <td>0.009095</td>\n",
              "      <td>0.007042</td>\n",
              "      <td>0.006123</td>\n",
              "      <td>0.007412</td>\n",
              "      <td>-0.001500</td>\n",
              "    </tr>\n",
              "    <tr>\n",
              "      <th>2017-03-29</th>\n",
              "      <td>0.020584</td>\n",
              "      <td>0.009263</td>\n",
              "      <td>-0.003188</td>\n",
              "      <td>0.006033</td>\n",
              "      <td>-0.004674</td>\n",
              "    </tr>\n",
              "    <tr>\n",
              "      <th>2017-03-30</th>\n",
              "      <td>-0.001994</td>\n",
              "      <td>0.007220</td>\n",
              "      <td>-0.006154</td>\n",
              "      <td>-0.001473</td>\n",
              "      <td>-0.027170</td>\n",
              "    </tr>\n",
              "    <tr>\n",
              "      <th>2017-03-31</th>\n",
              "      <td>-0.001256</td>\n",
              "      <td>-0.000481</td>\n",
              "      <td>-0.003169</td>\n",
              "      <td>-0.003769</td>\n",
              "      <td>-0.000259</td>\n",
              "    </tr>\n",
              "  </tbody>\n",
              "</table>\n",
              "<p>493 rows × 5 columns</p>\n",
              "</div>"
            ],
            "text/plain": [
              "            HCLTECH.NS  WIPRO.NS   INFY.NS    TCS.NS  MPHASIS.NS\n",
              "Date                                                            \n",
              "2015-04-01         NaN       NaN       NaN       NaN         NaN\n",
              "2015-04-06   -0.009353 -0.019031  0.001956  0.001833   -0.002938\n",
              "2015-04-07    0.002682 -0.009818 -0.008585  0.014800    0.005637\n",
              "2015-04-08    0.026002  0.002033  0.019010  0.021818   -0.006370\n",
              "2015-04-09    0.005528  0.001376  0.006566  0.008768   -0.007052\n",
              "...                ...       ...       ...       ...         ...\n",
              "2017-03-27   -0.023939 -0.018024 -0.002472 -0.006238   -0.005058\n",
              "2017-03-28    0.009095  0.007042  0.006123  0.007412   -0.001500\n",
              "2017-03-29    0.020584  0.009263 -0.003188  0.006033   -0.004674\n",
              "2017-03-30   -0.001994  0.007220 -0.006154 -0.001473   -0.027170\n",
              "2017-03-31   -0.001256 -0.000481 -0.003169 -0.003769   -0.000259\n",
              "\n",
              "[493 rows x 5 columns]"
            ]
          },
          "metadata": {
            "tags": []
          },
          "execution_count": 117
        }
      ]
    },
    {
      "cell_type": "markdown",
      "metadata": {
        "id": "bs8vrnHZx6jS"
      },
      "source": [
        "**Annual co-variance, variance, and volatility(risk) for the portfolio**"
      ]
    },
    {
      "cell_type": "code",
      "metadata": {
        "id": "SiEJrBm4i2Lf",
        "colab": {
          "base_uri": "https://localhost:8080/",
          "height": 195
        },
        "outputId": "f531b785-702f-471a-9fe0-a26b89376873"
      },
      "source": [
        "#create and show the annual covariance matrix\n",
        "cov_matrix_annual=returns.cov()*252\n",
        "cov_matrix_annual"
      ],
      "execution_count": null,
      "outputs": [
        {
          "output_type": "execute_result",
          "data": {
            "text/html": [
              "<div>\n",
              "<style scoped>\n",
              "    .dataframe tbody tr th:only-of-type {\n",
              "        vertical-align: middle;\n",
              "    }\n",
              "\n",
              "    .dataframe tbody tr th {\n",
              "        vertical-align: top;\n",
              "    }\n",
              "\n",
              "    .dataframe thead th {\n",
              "        text-align: right;\n",
              "    }\n",
              "</style>\n",
              "<table border=\"1\" class=\"dataframe\">\n",
              "  <thead>\n",
              "    <tr style=\"text-align: right;\">\n",
              "      <th></th>\n",
              "      <th>HCLTECH.NS</th>\n",
              "      <th>WIPRO.NS</th>\n",
              "      <th>INFY.NS</th>\n",
              "      <th>TCS.NS</th>\n",
              "      <th>MPHASIS.NS</th>\n",
              "    </tr>\n",
              "  </thead>\n",
              "  <tbody>\n",
              "    <tr>\n",
              "      <th>HCLTECH.NS</th>\n",
              "      <td>0.072096</td>\n",
              "      <td>0.024401</td>\n",
              "      <td>0.030026</td>\n",
              "      <td>0.022593</td>\n",
              "      <td>0.008497</td>\n",
              "    </tr>\n",
              "    <tr>\n",
              "      <th>WIPRO.NS</th>\n",
              "      <td>0.024401</td>\n",
              "      <td>0.041878</td>\n",
              "      <td>0.024506</td>\n",
              "      <td>0.019092</td>\n",
              "      <td>0.010169</td>\n",
              "    </tr>\n",
              "    <tr>\n",
              "      <th>INFY.NS</th>\n",
              "      <td>0.030026</td>\n",
              "      <td>0.024506</td>\n",
              "      <td>0.063622</td>\n",
              "      <td>0.024758</td>\n",
              "      <td>0.012407</td>\n",
              "    </tr>\n",
              "    <tr>\n",
              "      <th>TCS.NS</th>\n",
              "      <td>0.022593</td>\n",
              "      <td>0.019092</td>\n",
              "      <td>0.024758</td>\n",
              "      <td>0.047820</td>\n",
              "      <td>0.005020</td>\n",
              "    </tr>\n",
              "    <tr>\n",
              "      <th>MPHASIS.NS</th>\n",
              "      <td>0.008497</td>\n",
              "      <td>0.010169</td>\n",
              "      <td>0.012407</td>\n",
              "      <td>0.005020</td>\n",
              "      <td>0.100020</td>\n",
              "    </tr>\n",
              "  </tbody>\n",
              "</table>\n",
              "</div>"
            ],
            "text/plain": [
              "            HCLTECH.NS  WIPRO.NS   INFY.NS    TCS.NS  MPHASIS.NS\n",
              "HCLTECH.NS    0.072096  0.024401  0.030026  0.022593    0.008497\n",
              "WIPRO.NS      0.024401  0.041878  0.024506  0.019092    0.010169\n",
              "INFY.NS       0.030026  0.024506  0.063622  0.024758    0.012407\n",
              "TCS.NS        0.022593  0.019092  0.024758  0.047820    0.005020\n",
              "MPHASIS.NS    0.008497  0.010169  0.012407  0.005020    0.100020"
            ]
          },
          "metadata": {
            "tags": []
          },
          "execution_count": 118
        }
      ]
    },
    {
      "cell_type": "code",
      "metadata": {
        "id": "KVy_RVsQjQDT",
        "colab": {
          "base_uri": "https://localhost:8080/",
          "height": 34
        },
        "outputId": "d1124a1d-3232-4507-e3ca-4d69da9b9061"
      },
      "source": [
        "#calculate the portfolio variance\n",
        "port_variance = np.dot(weights.T,np.dot(cov_matrix_annual, weights))\n",
        "port_variance"
      ],
      "execution_count": null,
      "outputs": [
        {
          "output_type": "execute_result",
          "data": {
            "text/plain": [
              "0.02753491265621099"
            ]
          },
          "metadata": {
            "tags": []
          },
          "execution_count": 119
        }
      ]
    },
    {
      "cell_type": "code",
      "metadata": {
        "id": "1op3CXGdjsvv",
        "colab": {
          "base_uri": "https://localhost:8080/",
          "height": 34
        },
        "outputId": "90a1bc8d-58b8-496e-f244-849a0f0ac8e3"
      },
      "source": [
        "#calculate the porfolio volatility aka std\n",
        "port_volatility=np.sqrt(port_variance)\n",
        "port_volatility"
      ],
      "execution_count": null,
      "outputs": [
        {
          "output_type": "execute_result",
          "data": {
            "text/plain": [
              "0.16593647174810905"
            ]
          },
          "metadata": {
            "tags": []
          },
          "execution_count": 120
        }
      ]
    },
    {
      "cell_type": "code",
      "metadata": {
        "id": "x_SdlXAxjRwW",
        "colab": {
          "base_uri": "https://localhost:8080/",
          "height": 34
        },
        "outputId": "47c5e41d-6483-48e8-8a19-0051803b1ec4"
      },
      "source": [
        "#calculate the annual portfolio return\n",
        "portfolioSimpleAnnualReturn=np.sum(returns.mean()*weights)*252\n",
        "portfolioSimpleAnnualReturn"
      ],
      "execution_count": null,
      "outputs": [
        {
          "output_type": "execute_result",
          "data": {
            "text/plain": [
              "0.08440886576311406"
            ]
          },
          "metadata": {
            "tags": []
          },
          "execution_count": 121
        }
      ]
    },
    {
      "cell_type": "markdown",
      "metadata": {
        "id": "SbLoas21yQIj"
      },
      "source": [
        "**The expected annual return, volatility(risk), and variance**"
      ]
    },
    {
      "cell_type": "code",
      "metadata": {
        "id": "GVa53QE0jkMY",
        "colab": {
          "base_uri": "https://localhost:8080/",
          "height": 67
        },
        "outputId": "fb8ffa85-0dd9-4e0d-fcda-5fb49fe6ab10"
      },
      "source": [
        "#show the expected annual return, volatility(risk), and variance\n",
        "\n",
        "percent_var = str(round(port_variance, 2)*100)+ '%'\n",
        "percent_vols = str(round(port_volatility,2)*100)+'%'\n",
        "percent_ret = str(round(portfolioSimpleAnnualReturn,2)*100)+'%'\n",
        "\n",
        "print('Expected annual return : '+ percent_ret)\n",
        "print('Annual volatility / risk: '+ percent_vols)\n",
        "print('Annual variance: '+ percent_var)"
      ],
      "execution_count": null,
      "outputs": [
        {
          "output_type": "stream",
          "text": [
            "Expected annual return : 8.0%\n",
            "Annual volatility / risk: 17.0%\n",
            "Annual variance: 3.0%\n"
          ],
          "name": "stdout"
        }
      ]
    },
    {
      "cell_type": "markdown",
      "metadata": {
        "id": "nJP0p5p_yV92"
      },
      "source": [
        "# **OPTIMIZATION**"
      ]
    },
    {
      "cell_type": "code",
      "metadata": {
        "id": "ARumBaCcj5-N",
        "colab": {
          "base_uri": "https://localhost:8080/",
          "height": 252
        },
        "outputId": "e7b45095-cd07-4692-8fe8-ecf217157d63"
      },
      "source": [
        "pip install PyPortfolioOpt"
      ],
      "execution_count": null,
      "outputs": [
        {
          "output_type": "stream",
          "text": [
            "Requirement already satisfied: PyPortfolioOpt in /usr/local/lib/python3.6/dist-packages (1.2.4)\n",
            "Requirement already satisfied: numpy<2.0,>=1.12 in /usr/local/lib/python3.6/dist-packages (from PyPortfolioOpt) (1.18.5)\n",
            "Requirement already satisfied: scipy<2.0,>=1.3 in /usr/local/lib/python3.6/dist-packages (from PyPortfolioOpt) (1.4.1)\n",
            "Requirement already satisfied: cvxpy<1.1,>=1.0 in /usr/local/lib/python3.6/dist-packages (from PyPortfolioOpt) (1.0.31)\n",
            "Requirement already satisfied: pandas>=0.19 in /usr/local/lib/python3.6/dist-packages (from PyPortfolioOpt) (1.0.5)\n",
            "Requirement already satisfied: osqp>=0.4.1 in /usr/local/lib/python3.6/dist-packages (from cvxpy<1.1,>=1.0->PyPortfolioOpt) (0.6.1)\n",
            "Requirement already satisfied: ecos>=2 in /usr/local/lib/python3.6/dist-packages (from cvxpy<1.1,>=1.0->PyPortfolioOpt) (2.0.7.post1)\n",
            "Requirement already satisfied: scs>=1.1.3 in /usr/local/lib/python3.6/dist-packages (from cvxpy<1.1,>=1.0->PyPortfolioOpt) (2.1.2)\n",
            "Requirement already satisfied: multiprocess in /usr/local/lib/python3.6/dist-packages (from cvxpy<1.1,>=1.0->PyPortfolioOpt) (0.70.10)\n",
            "Requirement already satisfied: pytz>=2017.2 in /usr/local/lib/python3.6/dist-packages (from pandas>=0.19->PyPortfolioOpt) (2018.9)\n",
            "Requirement already satisfied: python-dateutil>=2.6.1 in /usr/local/lib/python3.6/dist-packages (from pandas>=0.19->PyPortfolioOpt) (2.8.1)\n",
            "Requirement already satisfied: future in /usr/local/lib/python3.6/dist-packages (from osqp>=0.4.1->cvxpy<1.1,>=1.0->PyPortfolioOpt) (0.16.0)\n",
            "Requirement already satisfied: dill>=0.3.2 in /usr/local/lib/python3.6/dist-packages (from multiprocess->cvxpy<1.1,>=1.0->PyPortfolioOpt) (0.3.2)\n",
            "Requirement already satisfied: six>=1.5 in /usr/local/lib/python3.6/dist-packages (from python-dateutil>=2.6.1->pandas>=0.19->PyPortfolioOpt) (1.15.0)\n"
          ],
          "name": "stdout"
        }
      ]
    },
    {
      "cell_type": "code",
      "metadata": {
        "id": "vVGBAd8SjxcS"
      },
      "source": [
        "from pypfopt.efficient_frontier import EfficientFrontier\n",
        "from pypfopt import risk_models\n",
        "from pypfopt import expected_returns\n"
      ],
      "execution_count": null,
      "outputs": []
    },
    {
      "cell_type": "markdown",
      "metadata": {
        "id": "K5C-WuSzyfjm"
      },
      "source": [
        "**The optimized weights can be known from below**"
      ]
    },
    {
      "cell_type": "code",
      "metadata": {
        "id": "nWtM8tafkCjK",
        "colab": {
          "base_uri": "https://localhost:8080/",
          "height": 101
        },
        "outputId": "d704b639-fca6-4e82-ac65-a418b0b511d6"
      },
      "source": [
        "#Portfolio Optimization\n",
        "\n",
        "#calculate the expected returns and the annualised sample covariance matrix of assets returns\n",
        "mu = expected_returns.mean_historical_return(df)\n",
        "S = risk_models.sample_cov(df)\n",
        "\n",
        "#optimize for max sharp ratio\n",
        "ef = EfficientFrontier(mu,S)\n",
        "weights = ef.max_sharpe()\n",
        "cleaned_weights = ef.clean_weights()\n",
        "print(cleaned_weights)\n",
        "ef.portfolio_performance(verbose =True)\n"
      ],
      "execution_count": null,
      "outputs": [
        {
          "output_type": "stream",
          "text": [
            "OrderedDict([('HCLTECH.NS', 0.02767), ('WIPRO.NS', 0.0), ('INFY.NS', 0.12048), ('TCS.NS', 0.0), ('MPHASIS.NS', 0.85184)])\n",
            "Expected annual return: 25.8%\n",
            "Annual volatility: 27.7%\n",
            "Sharpe Ratio: 0.86\n"
          ],
          "name": "stdout"
        },
        {
          "output_type": "execute_result",
          "data": {
            "text/plain": [
              "(0.2583498617971865, 0.2769559379812932, 0.8606057105491116)"
            ]
          },
          "metadata": {
            "tags": []
          },
          "execution_count": 125
        }
      ]
    },
    {
      "cell_type": "markdown",
      "metadata": {
        "id": "T891n0T7ypW6"
      },
      "source": [
        "**Testing the optimized weights on the time period from 1st April 2017 to 31st March 2018**"
      ]
    },
    {
      "cell_type": "code",
      "metadata": {
        "id": "aGrx8cqDrwGh"
      },
      "source": [
        "assets = ['HCLTECH.NS','WIPRO.NS','INFY.NS','TCS.NS','MPHASIS.NS']\n",
        "\n",
        "stockStartDate='2017-04-01'\n",
        "\n",
        "stockEndDate='2018-03-31'\n"
      ],
      "execution_count": null,
      "outputs": []
    },
    {
      "cell_type": "code",
      "metadata": {
        "id": "f4COirjDrwc6"
      },
      "source": [
        "#create a df to store the adjusted close price \n",
        "df1 = pd.DataFrame()\n",
        "\n",
        "#store the adj close price in df\n",
        "for stock in assets:\n",
        "  df1[stock] = web.DataReader(stock,data_source='yahoo',start=stockStartDate,end = stockEndDate)['Adj Close']"
      ],
      "execution_count": null,
      "outputs": []
    },
    {
      "cell_type": "code",
      "metadata": {
        "id": "FCYz2VkkrwMe",
        "colab": {
          "base_uri": "https://localhost:8080/",
          "height": 431
        },
        "outputId": "0079a6fe-b78a-44d9-a3cc-312fb171bfdc"
      },
      "source": [
        "df1.sort_index(inplace=True)\n",
        "df1"
      ],
      "execution_count": null,
      "outputs": [
        {
          "output_type": "execute_result",
          "data": {
            "text/html": [
              "<div>\n",
              "<style scoped>\n",
              "    .dataframe tbody tr th:only-of-type {\n",
              "        vertical-align: middle;\n",
              "    }\n",
              "\n",
              "    .dataframe tbody tr th {\n",
              "        vertical-align: top;\n",
              "    }\n",
              "\n",
              "    .dataframe thead th {\n",
              "        text-align: right;\n",
              "    }\n",
              "</style>\n",
              "<table border=\"1\" class=\"dataframe\">\n",
              "  <thead>\n",
              "    <tr style=\"text-align: right;\">\n",
              "      <th></th>\n",
              "      <th>HCLTECH.NS</th>\n",
              "      <th>WIPRO.NS</th>\n",
              "      <th>INFY.NS</th>\n",
              "      <th>TCS.NS</th>\n",
              "      <th>MPHASIS.NS</th>\n",
              "    </tr>\n",
              "    <tr>\n",
              "      <th>Date</th>\n",
              "      <th></th>\n",
              "      <th></th>\n",
              "      <th></th>\n",
              "      <th></th>\n",
              "      <th></th>\n",
              "    </tr>\n",
              "  </thead>\n",
              "  <tbody>\n",
              "    <tr>\n",
              "      <th>2017-04-03</th>\n",
              "      <td>415.872986</td>\n",
              "      <td>188.250473</td>\n",
              "      <td>447.701843</td>\n",
              "      <td>1114.899292</td>\n",
              "      <td>510.973145</td>\n",
              "    </tr>\n",
              "    <tr>\n",
              "      <th>2017-04-05</th>\n",
              "      <td>408.311554</td>\n",
              "      <td>189.568100</td>\n",
              "      <td>441.999084</td>\n",
              "      <td>1110.063721</td>\n",
              "      <td>506.071991</td>\n",
              "    </tr>\n",
              "    <tr>\n",
              "      <th>2017-04-06</th>\n",
              "      <td>409.751862</td>\n",
              "      <td>191.071823</td>\n",
              "      <td>443.618958</td>\n",
              "      <td>1109.518433</td>\n",
              "      <td>500.145935</td>\n",
              "    </tr>\n",
              "    <tr>\n",
              "      <th>2017-04-07</th>\n",
              "      <td>407.735504</td>\n",
              "      <td>190.032364</td>\n",
              "      <td>435.608337</td>\n",
              "      <td>1122.924927</td>\n",
              "      <td>493.729797</td>\n",
              "    </tr>\n",
              "    <tr>\n",
              "      <th>2017-04-10</th>\n",
              "      <td>399.934052</td>\n",
              "      <td>187.247650</td>\n",
              "      <td>423.115601</td>\n",
              "      <td>1119.771851</td>\n",
              "      <td>496.937897</td>\n",
              "    </tr>\n",
              "    <tr>\n",
              "      <th>...</th>\n",
              "      <td>...</td>\n",
              "      <td>...</td>\n",
              "      <td>...</td>\n",
              "      <td>...</td>\n",
              "      <td>...</td>\n",
              "    </tr>\n",
              "    <tr>\n",
              "      <th>2018-03-22</th>\n",
              "      <td>456.024414</td>\n",
              "      <td>214.861420</td>\n",
              "      <td>538.845947</td>\n",
              "      <td>1334.035156</td>\n",
              "      <td>774.797058</td>\n",
              "    </tr>\n",
              "    <tr>\n",
              "      <th>2018-03-23</th>\n",
              "      <td>469.182556</td>\n",
              "      <td>212.030884</td>\n",
              "      <td>541.769104</td>\n",
              "      <td>1327.806152</td>\n",
              "      <td>765.948242</td>\n",
              "    </tr>\n",
              "    <tr>\n",
              "      <th>2018-03-26</th>\n",
              "      <td>473.911591</td>\n",
              "      <td>204.097397</td>\n",
              "      <td>536.038574</td>\n",
              "      <td>1327.269165</td>\n",
              "      <td>759.896240</td>\n",
              "    </tr>\n",
              "    <tr>\n",
              "      <th>2018-03-27</th>\n",
              "      <td>476.361877</td>\n",
              "      <td>204.135132</td>\n",
              "      <td>535.458801</td>\n",
              "      <td>1341.733887</td>\n",
              "      <td>744.032593</td>\n",
              "    </tr>\n",
              "    <tr>\n",
              "      <th>2018-03-28</th>\n",
              "      <td>474.671234</td>\n",
              "      <td>209.423798</td>\n",
              "      <td>525.157837</td>\n",
              "      <td>1342.412109</td>\n",
              "      <td>768.194824</td>\n",
              "    </tr>\n",
              "  </tbody>\n",
              "</table>\n",
              "<p>246 rows × 5 columns</p>\n",
              "</div>"
            ],
            "text/plain": [
              "            HCLTECH.NS    WIPRO.NS     INFY.NS       TCS.NS  MPHASIS.NS\n",
              "Date                                                                   \n",
              "2017-04-03  415.872986  188.250473  447.701843  1114.899292  510.973145\n",
              "2017-04-05  408.311554  189.568100  441.999084  1110.063721  506.071991\n",
              "2017-04-06  409.751862  191.071823  443.618958  1109.518433  500.145935\n",
              "2017-04-07  407.735504  190.032364  435.608337  1122.924927  493.729797\n",
              "2017-04-10  399.934052  187.247650  423.115601  1119.771851  496.937897\n",
              "...                ...         ...         ...          ...         ...\n",
              "2018-03-22  456.024414  214.861420  538.845947  1334.035156  774.797058\n",
              "2018-03-23  469.182556  212.030884  541.769104  1327.806152  765.948242\n",
              "2018-03-26  473.911591  204.097397  536.038574  1327.269165  759.896240\n",
              "2018-03-27  476.361877  204.135132  535.458801  1341.733887  744.032593\n",
              "2018-03-28  474.671234  209.423798  525.157837  1342.412109  768.194824\n",
              "\n",
              "[246 rows x 5 columns]"
            ]
          },
          "metadata": {
            "tags": []
          },
          "execution_count": 128
        }
      ]
    },
    {
      "cell_type": "code",
      "metadata": {
        "id": "FtfC9Nw2rv56"
      },
      "source": [
        "optimized_weights = np.array([0.02767,0.0,0.12048,0.0,0.85184])"
      ],
      "execution_count": null,
      "outputs": []
    },
    {
      "cell_type": "code",
      "metadata": {
        "id": "KyVTl0a4rii1",
        "colab": {
          "base_uri": "https://localhost:8080/",
          "height": 647
        },
        "outputId": "d6d57746-8afc-4d66-cb92-d01fcf3e6c44"
      },
      "source": [
        "# Visually show the stock/portfolio\n",
        "title='Portfolio Adj. Close price history'\n",
        "\n",
        " #get stocks\n",
        "my_stocks_1=df1\n",
        "\n",
        " #create and plot the graph\n",
        "\n",
        "\n",
        "plt.figure(figsize=(15,10))\n",
        "plt.title(title)\n",
        "plt.xlabel('Date', fontsize=18)\n",
        "plt.ylabel('Adj. Price ', fontsize=18)\n",
        "\n",
        "for c in my_stocks_1.columns.values:\n",
        "  plt.plot(my_stocks_1[c], label=c)\n",
        "\n",
        "plt.legend(my_stocks_1.columns.values, loc ='upper left')\n"
      ],
      "execution_count": null,
      "outputs": [
        {
          "output_type": "execute_result",
          "data": {
            "text/plain": [
              "<matplotlib.legend.Legend at 0x7f18e07a7a20>"
            ]
          },
          "metadata": {
            "tags": []
          },
          "execution_count": 130
        },
        {
          "output_type": "display_data",
          "data": {
            "image/png": "[encoded data removed]",
            "text/plain": [
              "<Figure size 1080x720 with 1 Axes>"
            ]
          },
          "metadata": {
            "tags": [],
            "needs_background": "light"
          }
        }
      ]
    },
    {
      "cell_type": "code",
      "metadata": {
        "id": "XAkxtu-StS_9",
        "colab": {
          "base_uri": "https://localhost:8080/",
          "height": 431
        },
        "outputId": "d089cf86-b75d-40d7-fa5c-23509deff281"
      },
      "source": [
        "#show the daily simple return\n",
        "returns1 = df1.pct_change()\n",
        "returns1\n"
      ],
      "execution_count": null,
      "outputs": [
        {
          "output_type": "execute_result",
          "data": {
            "text/html": [
              "<div>\n",
              "<style scoped>\n",
              "    .dataframe tbody tr th:only-of-type {\n",
              "        vertical-align: middle;\n",
              "    }\n",
              "\n",
              "    .dataframe tbody tr th {\n",
              "        vertical-align: top;\n",
              "    }\n",
              "\n",
              "    .dataframe thead th {\n",
              "        text-align: right;\n",
              "    }\n",
              "</style>\n",
              "<table border=\"1\" class=\"dataframe\">\n",
              "  <thead>\n",
              "    <tr style=\"text-align: right;\">\n",
              "      <th></th>\n",
              "      <th>HCLTECH.NS</th>\n",
              "      <th>WIPRO.NS</th>\n",
              "      <th>INFY.NS</th>\n",
              "      <th>TCS.NS</th>\n",
              "      <th>MPHASIS.NS</th>\n",
              "    </tr>\n",
              "    <tr>\n",
              "      <th>Date</th>\n",
              "      <th></th>\n",
              "      <th></th>\n",
              "      <th></th>\n",
              "      <th></th>\n",
              "      <th></th>\n",
              "    </tr>\n",
              "  </thead>\n",
              "  <tbody>\n",
              "    <tr>\n",
              "      <th>2017-04-03</th>\n",
              "      <td>NaN</td>\n",
              "      <td>NaN</td>\n",
              "      <td>NaN</td>\n",
              "      <td>NaN</td>\n",
              "      <td>NaN</td>\n",
              "    </tr>\n",
              "    <tr>\n",
              "      <th>2017-04-05</th>\n",
              "      <td>-0.018182</td>\n",
              "      <td>0.006999</td>\n",
              "      <td>-0.012738</td>\n",
              "      <td>-0.004337</td>\n",
              "      <td>-0.009592</td>\n",
              "    </tr>\n",
              "    <tr>\n",
              "      <th>2017-04-06</th>\n",
              "      <td>0.003527</td>\n",
              "      <td>0.007932</td>\n",
              "      <td>0.003665</td>\n",
              "      <td>-0.000491</td>\n",
              "      <td>-0.011710</td>\n",
              "    </tr>\n",
              "    <tr>\n",
              "      <th>2017-04-07</th>\n",
              "      <td>-0.004921</td>\n",
              "      <td>-0.005440</td>\n",
              "      <td>-0.018057</td>\n",
              "      <td>0.012083</td>\n",
              "      <td>-0.012829</td>\n",
              "    </tr>\n",
              "    <tr>\n",
              "      <th>2017-04-10</th>\n",
              "      <td>-0.019134</td>\n",
              "      <td>-0.014654</td>\n",
              "      <td>-0.028679</td>\n",
              "      <td>-0.002808</td>\n",
              "      <td>0.006498</td>\n",
              "    </tr>\n",
              "    <tr>\n",
              "      <th>...</th>\n",
              "      <td>...</td>\n",
              "      <td>...</td>\n",
              "      <td>...</td>\n",
              "      <td>...</td>\n",
              "      <td>...</td>\n",
              "    </tr>\n",
              "    <tr>\n",
              "      <th>2018-03-22</th>\n",
              "      <td>-0.007255</td>\n",
              "      <td>-0.023031</td>\n",
              "      <td>-0.005310</td>\n",
              "      <td>-0.008891</td>\n",
              "      <td>-0.013946</td>\n",
              "    </tr>\n",
              "    <tr>\n",
              "      <th>2018-03-23</th>\n",
              "      <td>0.028854</td>\n",
              "      <td>-0.013174</td>\n",
              "      <td>0.005425</td>\n",
              "      <td>-0.004669</td>\n",
              "      <td>-0.011421</td>\n",
              "    </tr>\n",
              "    <tr>\n",
              "      <th>2018-03-26</th>\n",
              "      <td>0.010079</td>\n",
              "      <td>-0.037417</td>\n",
              "      <td>-0.010577</td>\n",
              "      <td>-0.000404</td>\n",
              "      <td>-0.007901</td>\n",
              "    </tr>\n",
              "    <tr>\n",
              "      <th>2018-03-27</th>\n",
              "      <td>0.005170</td>\n",
              "      <td>0.000185</td>\n",
              "      <td>-0.001082</td>\n",
              "      <td>0.010898</td>\n",
              "      <td>-0.020876</td>\n",
              "    </tr>\n",
              "    <tr>\n",
              "      <th>2018-03-28</th>\n",
              "      <td>-0.003549</td>\n",
              "      <td>0.025908</td>\n",
              "      <td>-0.019238</td>\n",
              "      <td>0.000505</td>\n",
              "      <td>0.032475</td>\n",
              "    </tr>\n",
              "  </tbody>\n",
              "</table>\n",
              "<p>246 rows × 5 columns</p>\n",
              "</div>"
            ],
            "text/plain": [
              "            HCLTECH.NS  WIPRO.NS   INFY.NS    TCS.NS  MPHASIS.NS\n",
              "Date                                                            \n",
              "2017-04-03         NaN       NaN       NaN       NaN         NaN\n",
              "2017-04-05   -0.018182  0.006999 -0.012738 -0.004337   -0.009592\n",
              "2017-04-06    0.003527  0.007932  0.003665 -0.000491   -0.011710\n",
              "2017-04-07   -0.004921 -0.005440 -0.018057  0.012083   -0.012829\n",
              "2017-04-10   -0.019134 -0.014654 -0.028679 -0.002808    0.006498\n",
              "...                ...       ...       ...       ...         ...\n",
              "2018-03-22   -0.007255 -0.023031 -0.005310 -0.008891   -0.013946\n",
              "2018-03-23    0.028854 -0.013174  0.005425 -0.004669   -0.011421\n",
              "2018-03-26    0.010079 -0.037417 -0.010577 -0.000404   -0.007901\n",
              "2018-03-27    0.005170  0.000185 -0.001082  0.010898   -0.020876\n",
              "2018-03-28   -0.003549  0.025908 -0.019238  0.000505    0.032475\n",
              "\n",
              "[246 rows x 5 columns]"
            ]
          },
          "metadata": {
            "tags": []
          },
          "execution_count": 131
        }
      ]
    },
    {
      "cell_type": "code",
      "metadata": {
        "id": "AdoEdEEjtTFc",
        "colab": {
          "base_uri": "https://localhost:8080/",
          "height": 195
        },
        "outputId": "4d9e0093-7adc-4e57-9b13-ef9dbb6fd4b4"
      },
      "source": [
        "#create and show the annual covariance matrix\n",
        "cov_matrix_annual1=returns1.cov()*252\n",
        "cov_matrix_annual1"
      ],
      "execution_count": null,
      "outputs": [
        {
          "output_type": "execute_result",
          "data": {
            "text/html": [
              "<div>\n",
              "<style scoped>\n",
              "    .dataframe tbody tr th:only-of-type {\n",
              "        vertical-align: middle;\n",
              "    }\n",
              "\n",
              "    .dataframe tbody tr th {\n",
              "        vertical-align: top;\n",
              "    }\n",
              "\n",
              "    .dataframe thead th {\n",
              "        text-align: right;\n",
              "    }\n",
              "</style>\n",
              "<table border=\"1\" class=\"dataframe\">\n",
              "  <thead>\n",
              "    <tr style=\"text-align: right;\">\n",
              "      <th></th>\n",
              "      <th>HCLTECH.NS</th>\n",
              "      <th>WIPRO.NS</th>\n",
              "      <th>INFY.NS</th>\n",
              "      <th>TCS.NS</th>\n",
              "      <th>MPHASIS.NS</th>\n",
              "    </tr>\n",
              "  </thead>\n",
              "  <tbody>\n",
              "    <tr>\n",
              "      <th>HCLTECH.NS</th>\n",
              "      <td>0.041829</td>\n",
              "      <td>0.011655</td>\n",
              "      <td>0.016359</td>\n",
              "      <td>0.017536</td>\n",
              "      <td>0.007783</td>\n",
              "    </tr>\n",
              "    <tr>\n",
              "      <th>WIPRO.NS</th>\n",
              "      <td>0.011655</td>\n",
              "      <td>0.041132</td>\n",
              "      <td>0.010675</td>\n",
              "      <td>0.012176</td>\n",
              "      <td>0.000953</td>\n",
              "    </tr>\n",
              "    <tr>\n",
              "      <th>INFY.NS</th>\n",
              "      <td>0.016359</td>\n",
              "      <td>0.010675</td>\n",
              "      <td>0.051858</td>\n",
              "      <td>0.012720</td>\n",
              "      <td>0.004000</td>\n",
              "    </tr>\n",
              "    <tr>\n",
              "      <th>TCS.NS</th>\n",
              "      <td>0.017536</td>\n",
              "      <td>0.012176</td>\n",
              "      <td>0.012720</td>\n",
              "      <td>0.044841</td>\n",
              "      <td>0.006185</td>\n",
              "    </tr>\n",
              "    <tr>\n",
              "      <th>MPHASIS.NS</th>\n",
              "      <td>0.007783</td>\n",
              "      <td>0.000953</td>\n",
              "      <td>0.004000</td>\n",
              "      <td>0.006185</td>\n",
              "      <td>0.075037</td>\n",
              "    </tr>\n",
              "  </tbody>\n",
              "</table>\n",
              "</div>"
            ],
            "text/plain": [
              "            HCLTECH.NS  WIPRO.NS   INFY.NS    TCS.NS  MPHASIS.NS\n",
              "HCLTECH.NS    0.041829  0.011655  0.016359  0.017536    0.007783\n",
              "WIPRO.NS      0.011655  0.041132  0.010675  0.012176    0.000953\n",
              "INFY.NS       0.016359  0.010675  0.051858  0.012720    0.004000\n",
              "TCS.NS        0.017536  0.012176  0.012720  0.044841    0.006185\n",
              "MPHASIS.NS    0.007783  0.000953  0.004000  0.006185    0.075037"
            ]
          },
          "metadata": {
            "tags": []
          },
          "execution_count": 132
        }
      ]
    },
    {
      "cell_type": "code",
      "metadata": {
        "id": "bWPhCsi9tTEg",
        "colab": {
          "base_uri": "https://localhost:8080/",
          "height": 34
        },
        "outputId": "4f298215-0299-4e48-b027-53d91d4c9282"
      },
      "source": [
        "#calculate the portfolio variance\n",
        "port_variance1 = np.dot(optimized_weights.T,np.dot(cov_matrix_annual1, optimized_weights))\n",
        "port_variance1"
      ],
      "execution_count": null,
      "outputs": [
        {
          "output_type": "execute_result",
          "data": {
            "text/plain": [
              "0.05653062234806578"
            ]
          },
          "metadata": {
            "tags": []
          },
          "execution_count": 133
        }
      ]
    },
    {
      "cell_type": "code",
      "metadata": {
        "id": "wxZ1QikrtS8V",
        "colab": {
          "base_uri": "https://localhost:8080/",
          "height": 34
        },
        "outputId": "8ae1597e-d1e0-40ff-f8fd-4f8f2ecd4330"
      },
      "source": [
        "#calculate the porfolio volatility aka std\n",
        "port_volatility1=np.sqrt(port_variance1)\n",
        "port_volatility1"
      ],
      "execution_count": null,
      "outputs": [
        {
          "output_type": "execute_result",
          "data": {
            "text/plain": [
              "0.23776169234774927"
            ]
          },
          "metadata": {
            "tags": []
          },
          "execution_count": 134
        }
      ]
    },
    {
      "cell_type": "code",
      "metadata": {
        "id": "VqEp-CWmtS7U",
        "colab": {
          "base_uri": "https://localhost:8080/",
          "height": 34
        },
        "outputId": "922112aa-4b0a-49d4-b655-8543e226821c"
      },
      "source": [
        "#calculate the annual portfolio return\n",
        "portfolioSimpleAnnualReturn1=np.sum(returns1.mean()*optimized_weights)*252\n",
        "portfolioSimpleAnnualReturn1"
      ],
      "execution_count": null,
      "outputs": [
        {
          "output_type": "execute_result",
          "data": {
            "text/plain": [
              "0.41636897627193026"
            ]
          },
          "metadata": {
            "tags": []
          },
          "execution_count": 135
        }
      ]
    },
    {
      "cell_type": "code",
      "metadata": {
        "id": "YMrIn0CpuO2y",
        "colab": {
          "base_uri": "https://localhost:8080/",
          "height": 67
        },
        "outputId": "96db966d-dbdc-4154-d3f4-31b751ef7937"
      },
      "source": [
        "#show the expected annual return, volatility(risk), and variance\n",
        "\n",
        "percent_var1 = str(round(port_variance1, 2)*100)+ '%'\n",
        "percent_vols1 = str(round(port_volatility1,2)*100)+'%'\n",
        "percent_ret1 = str(round(portfolioSimpleAnnualReturn1,2)*100)+'%'\n",
        "\n",
        "print('Expected annual return : '+ percent_ret1)\n",
        "print('Annual volatility / risk: '+ percent_vols1)\n",
        "print('Annual variance: '+ percent_var1)"
      ],
      "execution_count": null,
      "outputs": [
        {
          "output_type": "stream",
          "text": [
            "Expected annual return : 42.0%\n",
            "Annual volatility / risk: 24.0%\n",
            "Annual variance: 6.0%\n"
          ],
          "name": "stdout"
        }
      ]
    }
  ]
}